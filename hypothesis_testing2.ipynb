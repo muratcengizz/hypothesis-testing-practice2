{
 "cells": [
  {
   "cell_type": "markdown",
   "id": "9e6baa3b-b420-4dee-b0bf-0bd221502781",
   "metadata": {},
   "source": [
    "### Bir işletmenin iki yıl boyunca satış verilerini analiz edeceğiz. Amacımız, işletmenin satışlarındaki değişimler hakkinda bir hipotez testi yapmaktır. "
   ]
  },
  {
   "cell_type": "markdown",
   "id": "580d53d4-641d-4aa0-9d42-9b5f329c7eef",
   "metadata": {},
   "source": [
    "# Veri Setinin Oluşturulması"
   ]
  },
  {
   "cell_type": "code",
   "execution_count": 8,
   "id": "125bcef1-875c-4718-ac86-b4857ae4e0e9",
   "metadata": {},
   "outputs": [],
   "source": [
    "import numpy as np\n",
    "import pandas as pd\n",
    "import matplotlib.pyplot as plt\n",
    "from scipy.stats import shapiro, mannwhitneyu, ttest_ind"
   ]
  },
  {
   "cell_type": "code",
   "execution_count": 3,
   "id": "d193f033-0cb4-47e2-896e-1d9400c027f8",
   "metadata": {},
   "outputs": [
    {
     "data": {
      "text/html": [
       "<div>\n",
       "<style scoped>\n",
       "    .dataframe tbody tr th:only-of-type {\n",
       "        vertical-align: middle;\n",
       "    }\n",
       "\n",
       "    .dataframe tbody tr th {\n",
       "        vertical-align: top;\n",
       "    }\n",
       "\n",
       "    .dataframe thead th {\n",
       "        text-align: right;\n",
       "    }\n",
       "</style>\n",
       "<table border=\"1\" class=\"dataframe\">\n",
       "  <thead>\n",
       "    <tr style=\"text-align: right;\">\n",
       "      <th></th>\n",
       "      <th>year_1</th>\n",
       "      <th>year_2</th>\n",
       "    </tr>\n",
       "  </thead>\n",
       "  <tbody>\n",
       "    <tr>\n",
       "      <th>0</th>\n",
       "      <td>25000</td>\n",
       "      <td>35000</td>\n",
       "    </tr>\n",
       "    <tr>\n",
       "      <th>1</th>\n",
       "      <td>30000</td>\n",
       "      <td>40000</td>\n",
       "    </tr>\n",
       "    <tr>\n",
       "      <th>2</th>\n",
       "      <td>40000</td>\n",
       "      <td>45000</td>\n",
       "    </tr>\n",
       "    <tr>\n",
       "      <th>3</th>\n",
       "      <td>45000</td>\n",
       "      <td>50000</td>\n",
       "    </tr>\n",
       "    <tr>\n",
       "      <th>4</th>\n",
       "      <td>50000</td>\n",
       "      <td>55000</td>\n",
       "    </tr>\n",
       "  </tbody>\n",
       "</table>\n",
       "</div>"
      ],
      "text/plain": [
       "   year_1  year_2\n",
       "0   25000   35000\n",
       "1   30000   40000\n",
       "2   40000   45000\n",
       "3   45000   50000\n",
       "4   50000   55000"
      ]
     },
     "execution_count": 3,
     "metadata": {},
     "output_type": "execute_result"
    }
   ],
   "source": [
    "# veri setini oluşturalım.\n",
    "\n",
    "# İşletmenin birinci yıl satış verileri\n",
    "sales_1 = [25000, 30000, 40000, 45000, 50000, 55000, 60000, 65000, 70000, 75000, 80000, 85000]\n",
    "\n",
    "# İşletmenin ikinci yıl satış verileri\n",
    "sales_2 = [35000, 40000, 45000, 50000, 55000, 60000, 65000, 70000, 75000, 80000, 85000, 90000]\n",
    "\n",
    "sales = pd.DataFrame({\n",
    "    'year_1':sales_1, 'year_2':sales_2\n",
    "})\n",
    "\n",
    "sales.head()"
   ]
  },
  {
   "cell_type": "markdown",
   "id": "b71e5f1b-78d2-4f49-b1f2-b0d248f7e591",
   "metadata": {},
   "source": [
    "# Veri Seti Ön Analiz"
   ]
  },
  {
   "cell_type": "code",
   "execution_count": 4,
   "id": "60790a13-02b1-4adf-8a2a-ca25e4f5b021",
   "metadata": {},
   "outputs": [
    {
     "data": {
      "text/html": [
       "<div>\n",
       "<style scoped>\n",
       "    .dataframe tbody tr th:only-of-type {\n",
       "        vertical-align: middle;\n",
       "    }\n",
       "\n",
       "    .dataframe tbody tr th {\n",
       "        vertical-align: top;\n",
       "    }\n",
       "\n",
       "    .dataframe thead th {\n",
       "        text-align: right;\n",
       "    }\n",
       "</style>\n",
       "<table border=\"1\" class=\"dataframe\">\n",
       "  <thead>\n",
       "    <tr style=\"text-align: right;\">\n",
       "      <th></th>\n",
       "      <th>count</th>\n",
       "      <th>mean</th>\n",
       "      <th>std</th>\n",
       "      <th>min</th>\n",
       "      <th>25%</th>\n",
       "      <th>50%</th>\n",
       "      <th>75%</th>\n",
       "      <th>max</th>\n",
       "    </tr>\n",
       "  </thead>\n",
       "  <tbody>\n",
       "    <tr>\n",
       "      <th>year_1</th>\n",
       "      <td>12.0</td>\n",
       "      <td>56666.666667</td>\n",
       "      <td>19345.346320</td>\n",
       "      <td>25000.0</td>\n",
       "      <td>43750.0</td>\n",
       "      <td>57500.0</td>\n",
       "      <td>71250.0</td>\n",
       "      <td>85000.0</td>\n",
       "    </tr>\n",
       "    <tr>\n",
       "      <th>year_2</th>\n",
       "      <td>12.0</td>\n",
       "      <td>62500.000000</td>\n",
       "      <td>18027.756377</td>\n",
       "      <td>35000.0</td>\n",
       "      <td>48750.0</td>\n",
       "      <td>62500.0</td>\n",
       "      <td>76250.0</td>\n",
       "      <td>90000.0</td>\n",
       "    </tr>\n",
       "  </tbody>\n",
       "</table>\n",
       "</div>"
      ],
      "text/plain": [
       "        count          mean           std      min      25%      50%      75%  \\\n",
       "year_1   12.0  56666.666667  19345.346320  25000.0  43750.0  57500.0  71250.0   \n",
       "year_2   12.0  62500.000000  18027.756377  35000.0  48750.0  62500.0  76250.0   \n",
       "\n",
       "            max  \n",
       "year_1  85000.0  \n",
       "year_2  90000.0  "
      ]
     },
     "execution_count": 4,
     "metadata": {},
     "output_type": "execute_result"
    }
   ],
   "source": [
    "sales.describe().T"
   ]
  },
  {
   "cell_type": "code",
   "execution_count": 5,
   "id": "3624e89b-d3f6-4ae0-aa0e-5b829f1a3c4e",
   "metadata": {},
   "outputs": [
    {
     "name": "stdout",
     "output_type": "stream",
     "text": [
      "<class 'pandas.core.frame.DataFrame'>\n",
      "RangeIndex: 12 entries, 0 to 11\n",
      "Data columns (total 2 columns):\n",
      " #   Column  Non-Null Count  Dtype\n",
      "---  ------  --------------  -----\n",
      " 0   year_1  12 non-null     int64\n",
      " 1   year_2  12 non-null     int64\n",
      "dtypes: int64(2)\n",
      "memory usage: 320.0 bytes\n"
     ]
    }
   ],
   "source": [
    "sales.info()"
   ]
  },
  {
   "cell_type": "markdown",
   "id": "45c7a6ed-0219-40e3-9ee3-7a0645101d55",
   "metadata": {},
   "source": [
    "# Veri Setinin Görselleştirilmesi"
   ]
  },
  {
   "cell_type": "code",
   "execution_count": 6,
   "id": "bd3f8ab4-9c46-4dbb-9b66-3b21671f5dcf",
   "metadata": {},
   "outputs": [
    {
     "data": {
      "image/png": "[encoded data removed]",
      "text/plain": [
       "<Figure size 432x288 with 1 Axes>"
      ]
     },
     "metadata": {
      "needs_background": "light"
     },
     "output_type": "display_data"
    }
   ],
   "source": [
    "plt.plot(sales['year_1'], label='Year 1')\n",
    "plt.plot(sales['year_2'], label='Year 2')\n",
    "plt.legend()\n",
    "plt.show()"
   ]
  },
  {
   "cell_type": "markdown",
   "id": "9a7093ff-e463-4f28-98a6-6a60e59971e2",
   "metadata": {},
   "source": [
    "# İstatistiksel Testler\n",
    "\n",
    "#### Hipotez testi yapmadan önce, verilerin normal dağılım gösterip göstermediğini kontrol etmeliyiz. Veri görselleştirme ile yukarıda normal dağılıyor fikri uyandı fakat istatistiksel olarak test edip bilimsel sonucu elde etmeliyiz. Bu amaçla, Shapiro-Wilk testini kullanabiliriz."
   ]
  },
  {
   "cell_type": "code",
   "execution_count": 7,
   "id": "4d549b23-7ca2-468d-9591-526fa2c0ef74",
   "metadata": {},
   "outputs": [
    {
     "name": "stdout",
     "output_type": "stream",
     "text": [
      "Year 1:\n",
      "Statistic=0.970, P-value=0.911\n",
      "---------------------------------------------------\n",
      "Year 2:\n",
      "Statistic=0.967, P-value=0.876\n"
     ]
    }
   ],
   "source": [
    "# ilk yılın satış verilerinin normal dağılım testi\n",
    "\n",
    "stat, p = shapiro(sales['year_1'])\n",
    "print('Year 1:\\nStatistic=%.3f, P-value=%.3f' % (stat, p))\n",
    "\n",
    "print('---------------------------------------------------')\n",
    "\n",
    "stat, p = shapiro(sales['year_2'])\n",
    "print('Year 2:\\nStatistic=%.3f, P-value=%.3f' % (stat, p))"
   ]
  },
  {
   "cell_type": "markdown",
   "id": "0ca334b8-b2b2-4b28-9f31-7f61bc6180e9",
   "metadata": {},
   "source": [
    "#### P-value değerleri 0.05 'den büyük olduğu için verilerin normal dağıldığını söyleyebiliriz. Bu durumda, veriler normal dağılım gösterdiği için T-testi veya Z-testi yapabiliriz.\n",
    "\n",
    "#### T-testi: popülasyon ortalaması ve standart sapmasının bilinmediği durumlarda yapılan testtir.\n",
    "#### Z-testi. popülasyon ortalaması ve standart sapmasının bilindiği durumlarda yapılan testtir.\n",
    "\n",
    "#### Bu durumdan dolayı T-testi yapacağız."
   ]
  },
  {
   "cell_type": "markdown",
   "id": "4f4da837-a95f-4050-92df-ef667cafbbe4",
   "metadata": {},
   "source": [
    "## Hipotezlerimiz:\n",
    "\n",
    "#### H0: İki yıl arasında anlamlı bir fark yoktur.\n",
    "#### H1: İki yıl arasında anlamlı bir fark vardır."
   ]
  },
  {
   "cell_type": "code",
   "execution_count": 9,
   "id": "a62ecbd7-07cb-4b8c-bc94-7ac5971f842d",
   "metadata": {},
   "outputs": [
    {
     "name": "stdout",
     "output_type": "stream",
     "text": [
      "Statistic = -0.764\n",
      "P-value = 0.453\n"
     ]
    }
   ],
   "source": [
    "t_stat, p_value = ttest_ind(sales['year_1'], sales['year_2'])\n",
    "print(f'Statistic = %.3f\\nP-value = %.3f' % (t_stat, p_value))"
   ]
  },
  {
   "cell_type": "code",
   "execution_count": 11,
   "id": "79504fd2-7faa-4142-be67-8c735cb30b00",
   "metadata": {},
   "outputs": [
    {
     "name": "stdout",
     "output_type": "stream",
     "text": [
      "İki yıl arasında anlamlı bir fark yoktur (H0 reddedilemez)\n"
     ]
    }
   ],
   "source": [
    "# Hipotezin kabul edilip edilmeyeceğinin belirlenmesi\n",
    "\n",
    "alpha = 0.05\n",
    "\n",
    "if p_value > alpha:\n",
    "    print('İki yıl arasında anlamlı bir fark yoktur (H0 reddedilemez)')\n",
    "else:\n",
    "    print('İki yıl arasında anlamlı bir fark vardır (H0 reddedilir.)')"
   ]
  }
 ],
 "metadata": {
  "kernelspec": {
   "display_name": "Python 3 (ipykernel)",
   "language": "python",
   "name": "python3"
  },
  "language_info": {
   "codemirror_mode": {
    "name": "ipython",
    "version": 3
   },
   "file_extension": ".py",
   "mimetype": "text/x-python",
   "name": "python",
   "nbconvert_exporter": "python",
   "pygments_lexer": "ipython3",
   "version": "3.9.12"
  }
 },
 "nbformat": 4,
 "nbformat_minor": 5
}
